{
  "nbformat": 4,
  "nbformat_minor": 0,
  "metadata": {
    "colab": {
      "name": "CRUD Com Mongo DB.ipynb",
      "provenance": [],
      "collapsed_sections": [
        "bL-5218ePIJB",
        "Rw9uFpMPPOZh",
        "Z-dY6qcXPX7W",
        "vQWeG77_PbMh",
        "x9JIzcy6PfEh",
        "nU8XjuMnPpCP",
        "LHxJvTZeP89E",
        "R2lpiRMzP0PK",
        "yPl5iY5TP3U9"
      ]
    },
    "kernelspec": {
      "name": "python3",
      "display_name": "Python 3"
    },
    "language_info": {
      "name": "python"
    }
  },
  "cells": [
    {
      "cell_type": "markdown",
      "metadata": {
        "id": "KNCRHXoNPieM"
      },
      "source": [
        "#CRUD Com Mongo DB"
      ]
    },
    {
      "cell_type": "markdown",
      "metadata": {
        "id": "bL-5218ePIJB"
      },
      "source": [
        "##Importar e Instalar Libs"
      ]
    },
    {
      "cell_type": "code",
      "metadata": {
        "colab": {
          "base_uri": "https://localhost:8080/"
        },
        "id": "6W7KDX81I5_J",
        "outputId": "919f3489-0027-4fa6-9891-a884a95f7416"
      },
      "source": [
        "!pip install ConfigParser\n",
        "!pip install dnspython"
      ],
      "execution_count": 35,
      "outputs": [
        {
          "output_type": "stream",
          "text": [
            "Requirement already satisfied: ConfigParser in /usr/local/lib/python3.7/dist-packages (5.0.2)\n",
            "Requirement already satisfied: dnspython in /usr/local/lib/python3.7/dist-packages (1.16.0)\n"
          ],
          "name": "stdout"
        }
      ]
    },
    {
      "cell_type": "code",
      "metadata": {
        "id": "tA049GIdIkFl"
      },
      "source": [
        "import json\n",
        "from bson import json_util\n",
        "from typing import List\n",
        "from pymongo import MongoClient\n",
        "from configparser import ConfigParser\n",
        "from pprint import pprint"
      ],
      "execution_count": 89,
      "outputs": []
    },
    {
      "cell_type": "markdown",
      "metadata": {
        "id": "Rw9uFpMPPOZh"
      },
      "source": [
        "##Leitura do arquivo de Configuração com a ConnectionString"
      ]
    },
    {
      "cell_type": "code",
      "metadata": {
        "colab": {
          "base_uri": "https://localhost:8080/"
        },
        "id": "Tv4YWQRfJAx8",
        "outputId": "18546448-1b43-41cd-eadd-2d3b748ffea3"
      },
      "source": [
        "parser = ConfigParser()\n",
        "parser.read('simple.ini')"
      ],
      "execution_count": 2,
      "outputs": [
        {
          "output_type": "execute_result",
          "data": {
            "text/plain": [
              "['simple.ini']"
            ]
          },
          "metadata": {
            "tags": []
          },
          "execution_count": 2
        }
      ]
    },
    {
      "cell_type": "markdown",
      "metadata": {
        "id": "Z-dY6qcXPX7W"
      },
      "source": [
        "##Conectado ao Mongo DB com a url de conexão"
      ]
    },
    {
      "cell_type": "code",
      "metadata": {
        "id": "1IWZ1VjoKFrv"
      },
      "source": [
        "client = MongoClient(parser.get('sample_airbnb', 'url'))"
      ],
      "execution_count": 3,
      "outputs": []
    },
    {
      "cell_type": "markdown",
      "metadata": {
        "id": "vQWeG77_PbMh"
      },
      "source": [
        "##Selecionando a base de dados"
      ]
    },
    {
      "cell_type": "code",
      "metadata": {
        "id": "dqmHKCNnKuCQ"
      },
      "source": [
        "db=client['sample_airbnb']"
      ],
      "execution_count": 13,
      "outputs": []
    },
    {
      "cell_type": "markdown",
      "metadata": {
        "id": "x9JIzcy6PfEh"
      },
      "source": [
        "##Listando e Escolhendo a Coleção"
      ]
    },
    {
      "cell_type": "code",
      "metadata": {
        "colab": {
          "base_uri": "https://localhost:8080/"
        },
        "id": "mb5kUYsgMHXg",
        "outputId": "86324332-899a-4822-fca1-463b42b90a54"
      },
      "source": [
        "db.list_collection_names()"
      ],
      "execution_count": 14,
      "outputs": [
        {
          "output_type": "execute_result",
          "data": {
            "text/plain": [
              "['listingsAndReviews']"
            ]
          },
          "metadata": {
            "tags": []
          },
          "execution_count": 14
        }
      ]
    },
    {
      "cell_type": "code",
      "metadata": {
        "id": "zS9zUytIML1v"
      },
      "source": [
        "collection=db['listingsAndReviews']"
      ],
      "execution_count": 15,
      "outputs": []
    },
    {
      "cell_type": "markdown",
      "metadata": {
        "id": "nU8XjuMnPpCP"
      },
      "source": [
        "##Criando classe para serializar e deserializar objetos"
      ]
    },
    {
      "cell_type": "markdown",
      "metadata": {
        "id": "dSskH_u-bpKN"
      },
      "source": [
        "https://jsonformatter.org/json-to-python"
      ]
    },
    {
      "cell_type": "code",
      "metadata": {
        "id": "5LcrDQ6bNhZ8"
      },
      "source": [
        "class Accommodates:\n",
        "    number_int: int\n",
        "\n",
        "    def __init__(self, number_int: int):\n",
        "        self.number_int = number_int\n",
        "\n",
        "\n",
        "class Coordinate:\n",
        "    number_double: str\n",
        "\n",
        "    def __init__(self, number_double: str):\n",
        "        self.number_double = number_double\n",
        "\n",
        "\n",
        "class Location:\n",
        "    type: str\n",
        "    coordinates: List[Coordinate]\n",
        "    is_location_exact: bool\n",
        "\n",
        "    def __init__(self, type: str, coordinates: List[Coordinate], is_location_exact: bool):\n",
        "        self.type = type\n",
        "        self.coordinates = coordinates\n",
        "        self.is_location_exact = is_location_exact\n",
        "\n",
        "\n",
        "class Address:\n",
        "    street: str\n",
        "    suburb: str\n",
        "    government_area: str\n",
        "    market: str\n",
        "    country: str\n",
        "    country_code: str\n",
        "    location: Location\n",
        "\n",
        "    def __init__(self, street: str, suburb: str, government_area: str, market: str, \n",
        "                 country: str, country_code: str, location: Location):\n",
        "        self.street = street\n",
        "        self.suburb = suburb\n",
        "        self.government_area = government_area\n",
        "        self.market = market\n",
        "        self.country = country\n",
        "        self.country_code = country_code\n",
        "        self.location = location\n",
        "\n",
        "\n",
        "class Availability:\n",
        "    availability_30: Accommodates\n",
        "    availability_60: Accommodates\n",
        "    availability_90: Accommodates\n",
        "    availability_365: Accommodates\n",
        "\n",
        "    def __init__(self, availability_30: Accommodates, availability_60: Accommodates, \n",
        "                 availability_90: Accommodates, availability_365: Accommodates):\n",
        "        self.availability_30 = availability_30\n",
        "        self.availability_60 = availability_60\n",
        "        self.availability_90 = availability_90\n",
        "        self.availability_365 = availability_365\n",
        "\n",
        "\n",
        "class Bathrooms:\n",
        "    number_decimal: str\n",
        "\n",
        "    def __init__(self, number_decimal: str):\n",
        "        self.number_decimal = number_decimal\n",
        "\n",
        "\n",
        "class Date:\n",
        "    number_long: str\n",
        "\n",
        "    def __init__(self, number_long: str):\n",
        "        self.number_long = number_long\n",
        "\n",
        "\n",
        "class CalendarLastScraped:\n",
        "    date: Date\n",
        "\n",
        "    def __init__(self, date: Date):\n",
        "        self.date = date\n",
        "\n",
        "\n",
        "class Host:\n",
        "    host_id: int\n",
        "    host_url: str\n",
        "    host_name: str\n",
        "    host_location: str\n",
        "    host_about: str\n",
        "    host_response_time: str\n",
        "    host_thumbnail_url: str\n",
        "    host_picture_url: str\n",
        "    host_neighbourhood: str\n",
        "    host_response_rate: Accommodates\n",
        "    host_is_superhost: bool\n",
        "    host_has_profile_pic: bool\n",
        "    host_identity_verified: bool\n",
        "    host_listings_count: Accommodates\n",
        "    host_total_listings_count: Accommodates\n",
        "    host_verifications: List[str]\n",
        "\n",
        "    def __init__(self, host_id: int, host_url: str, host_name: str, host_location: str, \n",
        "                 host_about: str, host_response_time: str, host_thumbnail_url: str, \n",
        "                 host_picture_url: str, host_neighbourhood: str, host_response_rate: Accommodates, \n",
        "                 host_is_superhost: bool, host_has_profile_pic: bool, host_identity_verified: bool, \n",
        "                 host_listings_count: Accommodates, host_total_listings_count: Accommodates, host_verifications: List[str]):\n",
        "        self.host_id = host_id\n",
        "        self.host_url = host_url\n",
        "        self.host_name = host_name\n",
        "        self.host_location = host_location\n",
        "        self.host_about = host_about\n",
        "        self.host_response_time = host_response_time\n",
        "        self.host_thumbnail_url = host_thumbnail_url\n",
        "        self.host_picture_url = host_picture_url\n",
        "        self.host_neighbourhood = host_neighbourhood\n",
        "        self.host_response_rate = host_response_rate\n",
        "        self.host_is_superhost = host_is_superhost\n",
        "        self.host_has_profile_pic = host_has_profile_pic\n",
        "        self.host_identity_verified = host_identity_verified\n",
        "        self.host_listings_count = host_listings_count\n",
        "        self.host_total_listings_count = host_total_listings_count\n",
        "        self.host_verifications = host_verifications\n",
        "\n",
        "\n",
        "class Images:\n",
        "    thumbnail_url: str\n",
        "    medium_url: str\n",
        "    picture_url: str\n",
        "    xl_picture_url: str\n",
        "\n",
        "    def __init__(self, thumbnail_url: str, medium_url: str, picture_url: str, xl_picture_url: str):\n",
        "        self.thumbnail_url = thumbnail_url\n",
        "        self.medium_url = medium_url\n",
        "        self.picture_url = picture_url\n",
        "        self.xl_picture_url = xl_picture_url\n",
        "\n",
        "\n",
        "class ReviewScores:\n",
        "    review_scores_accuracy: Accommodates\n",
        "    review_scores_cleanliness: Accommodates\n",
        "    review_scores_checkin: Accommodates\n",
        "    review_scores_communication: Accommodates\n",
        "    review_scores_location: Accommodates\n",
        "    review_scores_value: Accommodates\n",
        "    review_scores_rating: Accommodates\n",
        "\n",
        "    def __init__(self, review_scores_accuracy: Accommodates, \n",
        "                 review_scores_cleanliness: Accommodates, review_scores_checkin: Accommodates, \n",
        "                 review_scores_communication: Accommodates, review_scores_location: Accommodates, \n",
        "                 review_scores_value: Accommodates, review_scores_rating: Accommodates):\n",
        "        self.review_scores_accuracy = review_scores_accuracy\n",
        "        self.review_scores_cleanliness = review_scores_cleanliness\n",
        "        self.review_scores_checkin = review_scores_checkin\n",
        "        self.review_scores_communication = review_scores_communication\n",
        "        self.review_scores_location = review_scores_location\n",
        "        self.review_scores_value = review_scores_value\n",
        "        self.review_scores_rating = review_scores_rating\n",
        "\n",
        "\n",
        "class Review:\n",
        "    _id: int\n",
        "    date: CalendarLastScraped\n",
        "    listing_id: int\n",
        "    reviewer_id: int\n",
        "    reviewer_name: str\n",
        "    comments: str\n",
        "\n",
        "    def __init__(self, _id: int, date: CalendarLastScraped, listing_id: int, \n",
        "                 reviewer_id: int, reviewer_name: str, comments: str):\n",
        "        self._id = _id\n",
        "        self.date = date\n",
        "        self.listing_id = listing_id\n",
        "        self.reviewer_id = reviewer_id\n",
        "        self.reviewer_name = reviewer_name\n",
        "        self.comments = comments\n",
        "\n",
        "\n",
        "class Airbnb:\n",
        "    _id: int\n",
        "    listing_url: str\n",
        "    name: str\n",
        "    summary: str\n",
        "    space: str\n",
        "    description: str\n",
        "    neighborhood_overview: str\n",
        "    notes: str\n",
        "    transit: str\n",
        "    access: str\n",
        "    interaction: str\n",
        "    house_rules: str\n",
        "    property_type: str\n",
        "    room_type: str\n",
        "    bed_type: str\n",
        "    minimum_nights: int\n",
        "    maximum_nights: int\n",
        "    cancellation_policy: str\n",
        "    last_scraped: CalendarLastScraped\n",
        "    calendar_last_scraped: CalendarLastScraped\n",
        "    first_review: CalendarLastScraped\n",
        "    last_review: CalendarLastScraped\n",
        "    accommodates: Accommodates\n",
        "    bedrooms: Accommodates\n",
        "    beds: Accommodates\n",
        "    number_of_reviews: Accommodates\n",
        "    reviews_per_month: Accommodates\n",
        "    bathrooms: Bathrooms\n",
        "    amenities: List[str]\n",
        "    price: Bathrooms\n",
        "    weekly_price:Bathrooms\n",
        "    monthly_price:Bathrooms\n",
        "    security_deposit: Bathrooms\n",
        "    cleaning_fee: Bathrooms\n",
        "    extra_people: Bathrooms\n",
        "    guests_included: Bathrooms\n",
        "    images: Images\n",
        "    host: Host\n",
        "    address: Address\n",
        "    availability: Availability\n",
        "    review_scores: ReviewScores\n",
        "    reviews: List[Review]\n",
        "\n",
        "    def __init__(self, _id: int, listing_url: str, name: str, summary: str, space: str, \n",
        "                 description: str=None, neighborhood_overview: str=None, notes: str=None, \n",
        "                 transit: str=None, access: str=None, interaction: str=None, \n",
        "                 house_rules: str=None, property_type: str=None, room_type: str=None, \n",
        "                 bed_type: str=None, minimum_nights: int=None, maximum_nights: int=None, \n",
        "                 cancellation_policy: str=None, last_scraped: CalendarLastScraped=None, \n",
        "                 calendar_last_scraped: CalendarLastScraped=None, first_review: CalendarLastScraped=None, \n",
        "                 last_review: CalendarLastScraped=None, accommodates: Accommodates=None, \n",
        "                 bedrooms: Accommodates=None, beds: Accommodates=None, number_of_reviews: Accommodates=None, \n",
        "                 reviews_per_month: Accommodates=None, bathrooms: Bathrooms=None, amenities: List[str]=None, price: Bathrooms=None, \n",
        "                 weekly_price:Bathrooms=None,monthly_price:Bathrooms=None, security_deposit: Bathrooms=None, \n",
        "                 cleaning_fee: Bathrooms=None, extra_people: Bathrooms=None, guests_included: Bathrooms=None, \n",
        "                 images: Images=None, host: Host=None, address: Address=None, availability: Availability=None, \n",
        "                 review_scores: ReviewScores=None, reviews: List[Review]=None):\n",
        "        self._id = _id\n",
        "        self.listing_url = listing_url\n",
        "        self.name = name\n",
        "        self.summary = summary\n",
        "        self.space = space\n",
        "        self.description = description\n",
        "        self.neighborhood_overview = neighborhood_overview\n",
        "        self.notes = notes\n",
        "        self.transit = transit\n",
        "        self.access = access\n",
        "        self.interaction = interaction\n",
        "        self.house_rules = house_rules\n",
        "        self.property_type = property_type\n",
        "        self.room_type = room_type\n",
        "        self.bed_type = bed_type\n",
        "        self.minimum_nights = minimum_nights\n",
        "        self.maximum_nights = maximum_nights\n",
        "        self.cancellation_policy = cancellation_policy\n",
        "        self.last_scraped = last_scraped\n",
        "        self.calendar_last_scraped = calendar_last_scraped\n",
        "        self.first_review = first_review\n",
        "        self.last_review = last_review\n",
        "        self.accommodates = accommodates\n",
        "        self.bedrooms = bedrooms\n",
        "        self.beds = beds\n",
        "        self.number_of_reviews = number_of_reviews\n",
        "        self.reviews_per_month=reviews_per_month\n",
        "        self.bathrooms = bathrooms\n",
        "        self.amenities = amenities\n",
        "        self.price = price\n",
        "        self.weekly_price=weekly_price\n",
        "        self.monthly_price=monthly_price\n",
        "        self.security_deposit = security_deposit\n",
        "        self.cleaning_fee = cleaning_fee\n",
        "        self.extra_people = extra_people\n",
        "        self.guests_included = guests_included\n",
        "        self.images = images\n",
        "        self.host = host\n",
        "        self.address = address\n",
        "        self.availability = availability\n",
        "        self.review_scores = review_scores\n",
        "        self.reviews = reviews"
      ],
      "execution_count": 136,
      "outputs": []
    },
    {
      "cell_type": "markdown",
      "metadata": {
        "id": "LHxJvTZeP89E"
      },
      "source": [
        "##Filtrar pelo primeiro que atender à Condição"
      ]
    },
    {
      "cell_type": "code",
      "metadata": {
        "id": "7UL8mX7Ob-c_"
      },
      "source": [
        "def ConverterAirbnb(json_Mongo):\n",
        "  json_objeto=json.loads(json.dumps(json_Mongo, default=json_util.default))\n",
        "  return Airbnb(**json_objeto)"
      ],
      "execution_count": 91,
      "outputs": []
    },
    {
      "cell_type": "code",
      "metadata": {
        "id": "l--QxCH4Nj2Z"
      },
      "source": [
        "airbnb1 = ConverterAirbnb(collection.find_one({'name': 'Spacious, charming & quiet delight'}))"
      ],
      "execution_count": 140,
      "outputs": []
    },
    {
      "cell_type": "code",
      "metadata": {
        "colab": {
          "base_uri": "https://localhost:8080/"
        },
        "id": "0IIcvY4BcOkC",
        "outputId": "688644f2-9ecc-4e49-a9c6-0b54ad81e06e"
      },
      "source": [
        "airbnb1.address"
      ],
      "execution_count": 141,
      "outputs": [
        {
          "output_type": "execute_result",
          "data": {
            "text/plain": [
              "{'country': 'United States',\n",
              " 'country_code': 'US',\n",
              " 'government_area': 'Chelsea',\n",
              " 'location': {'coordinates': [-74.00004, 40.74316],\n",
              "  'is_location_exact': True,\n",
              "  'type': 'Point'},\n",
              " 'market': 'New York',\n",
              " 'street': 'New York, NY, United States',\n",
              " 'suburb': 'Manhattan'}"
            ]
          },
          "metadata": {
            "tags": []
          },
          "execution_count": 141
        }
      ]
    },
    {
      "cell_type": "markdown",
      "metadata": {
        "id": "R2lpiRMzP0PK"
      },
      "source": [
        "##Filtrar todos com uma mesma Condição"
      ]
    },
    {
      "cell_type": "code",
      "metadata": {
        "id": "nCQKrxPgO_T4"
      },
      "source": [
        "airbnbs=[]\n",
        "cursor=collection.find({'name': 'Spacious, charming & quiet delight'})\n",
        "for document in cursor:\n",
        "  airbnbs.append(ConverterAirbnb(document))"
      ],
      "execution_count": 120,
      "outputs": []
    },
    {
      "cell_type": "code",
      "metadata": {
        "colab": {
          "base_uri": "https://localhost:8080/"
        },
        "id": "G3Oyyhv6dUhU",
        "outputId": "baaa9e8d-b7cd-48c7-9bf9-d44bbb811e9c"
      },
      "source": [
        "len(airbnbs)"
      ],
      "execution_count": 121,
      "outputs": [
        {
          "output_type": "execute_result",
          "data": {
            "text/plain": [
              "1"
            ]
          },
          "metadata": {
            "tags": []
          },
          "execution_count": 121
        }
      ]
    },
    {
      "cell_type": "code",
      "metadata": {
        "colab": {
          "base_uri": "https://localhost:8080/"
        },
        "id": "o1LUKrU0dG9E",
        "outputId": "097a30fe-e8ce-4ae9-e5bb-a89894c14171"
      },
      "source": [
        "airbnbs[0].address"
      ],
      "execution_count": 137,
      "outputs": [
        {
          "output_type": "execute_result",
          "data": {
            "text/plain": [
              "{'country': 'Portugal',\n",
              " 'country_code': 'PT',\n",
              " 'government_area': 'Cedofeita, Ildefonso, Sé, Miragaia, Nicolau, Vitória',\n",
              " 'location': {'coordinates': [-8.61308, 41.1413],\n",
              "  'is_location_exact': False,\n",
              "  'type': 'Point'},\n",
              " 'market': 'Porto',\n",
              " 'street': 'Porto, Porto, Portugal',\n",
              " 'suburb': ''}"
            ]
          },
          "metadata": {
            "tags": []
          },
          "execution_count": 137
        }
      ]
    },
    {
      "cell_type": "markdown",
      "metadata": {
        "id": "yPl5iY5TP3U9"
      },
      "source": [
        "##Selecionar todos os registros da coleção"
      ]
    },
    {
      "cell_type": "code",
      "metadata": {
        "id": "OSGRDaA7OJbW"
      },
      "source": [
        "airbnbs=[]\n",
        "cursor = collection.find({})\n",
        "for document in cursor:\n",
        "  airbnbs.append(ConverterAirbnb(document))"
      ],
      "execution_count": 130,
      "outputs": []
    },
    {
      "cell_type": "code",
      "metadata": {
        "colab": {
          "base_uri": "https://localhost:8080/"
        },
        "id": "dq3veq5ide75",
        "outputId": "303e4301-de96-411a-dcdc-2dcbdba5c603"
      },
      "source": [
        "len(airbnbs)"
      ],
      "execution_count": 131,
      "outputs": [
        {
          "output_type": "execute_result",
          "data": {
            "text/plain": [
              "5555"
            ]
          },
          "metadata": {
            "tags": []
          },
          "execution_count": 131
        }
      ]
    },
    {
      "cell_type": "code",
      "metadata": {
        "colab": {
          "base_uri": "https://localhost:8080/"
        },
        "id": "bJfVSuaRdl_z",
        "outputId": "015d8ce9-009f-4db0-b287-8dada8df11d3"
      },
      "source": [
        "airbnbs[5554].address"
      ],
      "execution_count": 139,
      "outputs": [
        {
          "output_type": "execute_result",
          "data": {
            "text/plain": [
              "{'country': 'Hong Kong',\n",
              " 'country_code': 'HK',\n",
              " 'government_area': 'Yau Tsim Mong',\n",
              " 'location': {'coordinates': [114.16963, 22.31569],\n",
              "  'is_location_exact': False,\n",
              "  'type': 'Point'},\n",
              " 'market': 'Hong Kong',\n",
              " 'street': 'Hong Kong, Kowloon, Hong Kong',\n",
              " 'suburb': 'Mong Kok'}"
            ]
          },
          "metadata": {
            "tags": []
          },
          "execution_count": 139
        }
      ]
    }
  ]
}